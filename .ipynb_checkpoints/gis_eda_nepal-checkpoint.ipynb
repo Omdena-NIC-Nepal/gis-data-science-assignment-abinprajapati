{
 "cells": [
  {
   "cell_type": "markdown",
   "metadata": {},
   "source": [
    "Nepal GIS Assignment"
   ]
  },
  {
   "cell_type": "code",
   "execution_count": 4,
   "metadata": {},
   "outputs": [
    {
     "name": "stdout",
     "output_type": "stream",
     "text": [
      "Requirement already satisfied: numpy in c:\\users\\abin\\miniconda3\\lib\\site-packages (from -r requirements.txt (line 1)) (1.26.4)\n",
      "Requirement already satisfied: pandas in c:\\users\\abin\\miniconda3\\lib\\site-packages (from -r requirements.txt (line 2)) (2.2.3)\n",
      "Requirement already satisfied: geopandas in c:\\users\\abin\\miniconda3\\lib\\site-packages (from -r requirements.txt (line 3)) (1.0.1)\n",
      "Requirement already satisfied: seaborn in c:\\users\\abin\\miniconda3\\lib\\site-packages (from -r requirements.txt (line 4)) (0.13.2)\n",
      "Requirement already satisfied: rasterio in c:\\users\\abin\\miniconda3\\lib\\site-packages (from -r requirements.txt (line 5)) (1.4.3)\n",
      "Requirement already satisfied: matplotlib in c:\\users\\abin\\miniconda3\\lib\\site-packages (from -r requirements.txt (line 6)) (3.10.0)\n",
      "Requirement already satisfied: folium in c:\\users\\abin\\miniconda3\\lib\\site-packages (from -r requirements.txt (line 7)) (0.19.5)\n",
      "Requirement already satisfied: fiona in c:\\users\\abin\\miniconda3\\lib\\site-packages (from -r requirements.txt (line 8)) (1.10.1)\n",
      "Requirement already satisfied: shapely in c:\\users\\abin\\miniconda3\\lib\\site-packages (from -r requirements.txt (line 9)) (2.0.7)\n",
      "Requirement already satisfied: python-dateutil>=2.8.2 in c:\\users\\abin\\appdata\\roaming\\python\\python311\\site-packages (from pandas->-r requirements.txt (line 2)) (2.9.0.post0)\n",
      "Requirement already satisfied: pytz>=2020.1 in c:\\users\\abin\\miniconda3\\lib\\site-packages (from pandas->-r requirements.txt (line 2)) (2025.1)\n",
      "Requirement already satisfied: tzdata>=2022.7 in c:\\users\\abin\\miniconda3\\lib\\site-packages (from pandas->-r requirements.txt (line 2)) (2025.1)\n",
      "Requirement already satisfied: pyogrio>=0.7.2 in c:\\users\\abin\\miniconda3\\lib\\site-packages (from geopandas->-r requirements.txt (line 3)) (0.10.0)\n",
      "Requirement already satisfied: packaging in c:\\users\\abin\\appdata\\roaming\\python\\python311\\site-packages (from geopandas->-r requirements.txt (line 3)) (24.2)\n",
      "Requirement already satisfied: pyproj>=3.3.0 in c:\\users\\abin\\miniconda3\\lib\\site-packages (from geopandas->-r requirements.txt (line 3)) (3.7.1)\n",
      "Requirement already satisfied: affine in c:\\users\\abin\\miniconda3\\lib\\site-packages (from rasterio->-r requirements.txt (line 5)) (2.4.0)\n",
      "Requirement already satisfied: attrs in c:\\users\\abin\\miniconda3\\lib\\site-packages (from rasterio->-r requirements.txt (line 5)) (25.1.0)\n",
      "Requirement already satisfied: certifi in c:\\users\\abin\\miniconda3\\lib\\site-packages (from rasterio->-r requirements.txt (line 5)) (2024.8.30)\n",
      "Requirement already satisfied: click>=4.0 in c:\\users\\abin\\miniconda3\\lib\\site-packages (from rasterio->-r requirements.txt (line 5)) (8.1.8)\n",
      "Requirement already satisfied: cligj>=0.5 in c:\\users\\abin\\miniconda3\\lib\\site-packages (from rasterio->-r requirements.txt (line 5)) (0.7.2)\n",
      "Requirement already satisfied: click-plugins in c:\\users\\abin\\miniconda3\\lib\\site-packages (from rasterio->-r requirements.txt (line 5)) (1.1.1)\n",
      "Requirement already satisfied: pyparsing in c:\\users\\abin\\miniconda3\\lib\\site-packages (from rasterio->-r requirements.txt (line 5)) (3.2.1)\n",
      "Requirement already satisfied: contourpy>=1.0.1 in c:\\users\\abin\\miniconda3\\lib\\site-packages (from matplotlib->-r requirements.txt (line 6)) (1.3.1)\n",
      "Requirement already satisfied: cycler>=0.10 in c:\\users\\abin\\miniconda3\\lib\\site-packages (from matplotlib->-r requirements.txt (line 6)) (0.12.1)\n",
      "Requirement already satisfied: fonttools>=4.22.0 in c:\\users\\abin\\miniconda3\\lib\\site-packages (from matplotlib->-r requirements.txt (line 6)) (4.56.0)\n",
      "Requirement already satisfied: kiwisolver>=1.3.1 in c:\\users\\abin\\miniconda3\\lib\\site-packages (from matplotlib->-r requirements.txt (line 6)) (1.4.8)\n",
      "Requirement already satisfied: pillow>=8 in c:\\users\\abin\\miniconda3\\lib\\site-packages (from matplotlib->-r requirements.txt (line 6)) (11.1.0)\n",
      "Requirement already satisfied: branca>=0.6.0 in c:\\users\\abin\\miniconda3\\lib\\site-packages (from folium->-r requirements.txt (line 7)) (0.8.1)\n",
      "Requirement already satisfied: jinja2>=2.9 in c:\\users\\abin\\miniconda3\\lib\\site-packages (from folium->-r requirements.txt (line 7)) (3.1.5)\n",
      "Requirement already satisfied: requests in c:\\users\\abin\\miniconda3\\lib\\site-packages (from folium->-r requirements.txt (line 7)) (2.32.3)\n",
      "Requirement already satisfied: xyzservices in c:\\users\\abin\\miniconda3\\lib\\site-packages (from folium->-r requirements.txt (line 7)) (2025.1.0)\n",
      "Requirement already satisfied: colorama in c:\\users\\abin\\appdata\\roaming\\python\\python311\\site-packages (from click>=4.0->rasterio->-r requirements.txt (line 5)) (0.4.6)\n",
      "Requirement already satisfied: MarkupSafe>=2.0 in c:\\users\\abin\\miniconda3\\lib\\site-packages (from jinja2>=2.9->folium->-r requirements.txt (line 7)) (3.0.2)\n",
      "Requirement already satisfied: six>=1.5 in c:\\users\\abin\\appdata\\roaming\\python\\python311\\site-packages (from python-dateutil>=2.8.2->pandas->-r requirements.txt (line 2)) (1.17.0)\n",
      "Requirement already satisfied: charset-normalizer<4,>=2 in c:\\users\\abin\\miniconda3\\lib\\site-packages (from requests->folium->-r requirements.txt (line 7)) (3.3.2)\n",
      "Requirement already satisfied: idna<4,>=2.5 in c:\\users\\abin\\miniconda3\\lib\\site-packages (from requests->folium->-r requirements.txt (line 7)) (3.7)\n",
      "Requirement already satisfied: urllib3<3,>=1.21.1 in c:\\users\\abin\\miniconda3\\lib\\site-packages (from requests->folium->-r requirements.txt (line 7)) (2.2.2)\n"
     ]
    }
   ],
   "source": [
    "# installing all the required libraries\n",
    "!pip install -r \"requirements.txt\""
   ]
  },
  {
   "cell_type": "code",
   "execution_count": 5,
   "metadata": {},
   "outputs": [
    {
     "ename": "ModuleNotFoundError",
     "evalue": "No module named 'geopandas'",
     "output_type": "error",
     "traceback": [
      "\u001b[1;31m---------------------------------------------------------------------------\u001b[0m",
      "\u001b[1;31mModuleNotFoundError\u001b[0m                       Traceback (most recent call last)",
      "Cell \u001b[1;32mIn[5], line 1\u001b[0m\n\u001b[1;32m----> 1\u001b[0m \u001b[38;5;28;01mimport\u001b[39;00m\u001b[38;5;250m \u001b[39m\u001b[38;5;21;01mgeopandas\u001b[39;00m\u001b[38;5;250m \u001b[39m\u001b[38;5;28;01mas\u001b[39;00m\u001b[38;5;250m \u001b[39m\u001b[38;5;21;01mgpd\u001b[39;00m\n\u001b[0;32m      2\u001b[0m \u001b[38;5;28;01mimport\u001b[39;00m\u001b[38;5;250m \u001b[39m\u001b[38;5;21;01mmatplotlib\u001b[39;00m\u001b[38;5;21;01m.\u001b[39;00m\u001b[38;5;21;01mpyplot\u001b[39;00m\u001b[38;5;250m \u001b[39m\u001b[38;5;28;01mas\u001b[39;00m\u001b[38;5;250m \u001b[39m\u001b[38;5;21;01mplt\u001b[39;00m\n\u001b[0;32m      3\u001b[0m \u001b[38;5;28;01mimport\u001b[39;00m\u001b[38;5;250m \u001b[39m\u001b[38;5;21;01mrasterio\u001b[39;00m\n",
      "\u001b[1;31mModuleNotFoundError\u001b[0m: No module named 'geopandas'"
     ]
    }
   ],
   "source": [
    "import geopandas as gpd\n",
    "import matplotlib.pyplot as plt\n",
    "import rasterio\n",
    "import numpy as np\n",
    "from rasterio.mask import mask\n",
    "import fiona\n",
    "import seaborn as sns"
   ]
  },
  {
   "cell_type": "code",
   "execution_count": 7,
   "metadata": {},
   "outputs": [
    {
     "name": "stdout",
     "output_type": "stream",
     "text": [
      "c:\\Users\\Abin\\AppData\\Local\\Programs\\Python\\Python311\\python.exe\n"
     ]
    }
   ],
   "source": [
    "import sys\n",
    "print(sys.executable)"
   ]
  },
  {
   "cell_type": "markdown",
   "metadata": {},
   "source": []
  },
  {
   "cell_type": "code",
   "execution_count": null,
   "metadata": {},
   "outputs": [],
   "source": [
    "import geopandas as gpd\n",
    "import matplotlib.pyplot as plt\n",
    "\n",
    "import numpy as np\n",
    "\n",
    "import fiona\n",
    "import seaborn as sns"
   ]
  },
  {
   "cell_type": "code",
   "execution_count": null,
   "metadata": {},
   "outputs": [],
   "source": []
  }
 ],
 "metadata": {
  "kernelspec": {
   "display_name": "Python 3",
   "language": "python",
   "name": "python3"
  },
  "language_info": {
   "codemirror_mode": {
    "name": "ipython",
    "version": 3
   },
   "file_extension": ".py",
   "mimetype": "text/x-python",
   "name": "python",
   "nbconvert_exporter": "python",
   "pygments_lexer": "ipython3",
   "version": "3.11.0"
  }
 },
 "nbformat": 4,
 "nbformat_minor": 2
}
